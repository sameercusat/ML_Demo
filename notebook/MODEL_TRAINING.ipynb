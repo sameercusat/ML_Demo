{
 "cells": [
  {
   "cell_type": "code",
   "execution_count": 223,
   "metadata": {},
   "outputs": [],
   "source": [
    "import pandas as pd\n",
    "import numpy as np\n",
    "import matplotlib.pyplot as plt\n"
   ]
  },
  {
   "cell_type": "code",
   "execution_count": 168,
   "metadata": {},
   "outputs": [],
   "source": [
    "from sklearn.linear_model import LinearRegression,Ridge,Lasso\n",
    "from sklearn.neighbors import KNeighborsRegressor\n",
    "from sklearn.ensemble import RandomForestRegressor,AdaBoostRegressor\n",
    "from sklearn.tree import DecisionTreeRegressor\n",
    "from xgboost import XGBRegressor\n",
    "from sklearn.metrics import r2_score"
   ]
  },
  {
   "cell_type": "code",
   "execution_count": 122,
   "metadata": {},
   "outputs": [
    {
     "name": "stdout",
     "output_type": "stream",
     "text": [
      "2.1.1\n"
     ]
    }
   ],
   "source": [
    "import numpy\n",
    "print(numpy.__version__)"
   ]
  },
  {
   "cell_type": "code",
   "execution_count": 123,
   "metadata": {},
   "outputs": [],
   "source": [
    "df=pd.read_csv('data/stud.csv')"
   ]
  },
  {
   "cell_type": "code",
   "execution_count": 124,
   "metadata": {},
   "outputs": [
    {
     "data": {
      "text/html": [
       "<div>\n",
       "<style scoped>\n",
       "    .dataframe tbody tr th:only-of-type {\n",
       "        vertical-align: middle;\n",
       "    }\n",
       "\n",
       "    .dataframe tbody tr th {\n",
       "        vertical-align: top;\n",
       "    }\n",
       "\n",
       "    .dataframe thead th {\n",
       "        text-align: right;\n",
       "    }\n",
       "</style>\n",
       "<table border=\"1\" class=\"dataframe\">\n",
       "  <thead>\n",
       "    <tr style=\"text-align: right;\">\n",
       "      <th></th>\n",
       "      <th>gender</th>\n",
       "      <th>race_ethnicity</th>\n",
       "      <th>parental_level_of_education</th>\n",
       "      <th>lunch</th>\n",
       "      <th>test_preparation_course</th>\n",
       "      <th>math_score</th>\n",
       "      <th>reading_score</th>\n",
       "      <th>writing_score</th>\n",
       "    </tr>\n",
       "  </thead>\n",
       "  <tbody>\n",
       "    <tr>\n",
       "      <th>0</th>\n",
       "      <td>female</td>\n",
       "      <td>group B</td>\n",
       "      <td>bachelor's degree</td>\n",
       "      <td>standard</td>\n",
       "      <td>none</td>\n",
       "      <td>72</td>\n",
       "      <td>72</td>\n",
       "      <td>74</td>\n",
       "    </tr>\n",
       "    <tr>\n",
       "      <th>1</th>\n",
       "      <td>female</td>\n",
       "      <td>group C</td>\n",
       "      <td>some college</td>\n",
       "      <td>standard</td>\n",
       "      <td>completed</td>\n",
       "      <td>69</td>\n",
       "      <td>90</td>\n",
       "      <td>88</td>\n",
       "    </tr>\n",
       "    <tr>\n",
       "      <th>2</th>\n",
       "      <td>female</td>\n",
       "      <td>group B</td>\n",
       "      <td>master's degree</td>\n",
       "      <td>standard</td>\n",
       "      <td>none</td>\n",
       "      <td>90</td>\n",
       "      <td>95</td>\n",
       "      <td>93</td>\n",
       "    </tr>\n",
       "    <tr>\n",
       "      <th>3</th>\n",
       "      <td>male</td>\n",
       "      <td>group A</td>\n",
       "      <td>associate's degree</td>\n",
       "      <td>free/reduced</td>\n",
       "      <td>none</td>\n",
       "      <td>47</td>\n",
       "      <td>57</td>\n",
       "      <td>44</td>\n",
       "    </tr>\n",
       "    <tr>\n",
       "      <th>4</th>\n",
       "      <td>male</td>\n",
       "      <td>group C</td>\n",
       "      <td>some college</td>\n",
       "      <td>standard</td>\n",
       "      <td>none</td>\n",
       "      <td>76</td>\n",
       "      <td>78</td>\n",
       "      <td>75</td>\n",
       "    </tr>\n",
       "    <tr>\n",
       "      <th>5</th>\n",
       "      <td>female</td>\n",
       "      <td>group B</td>\n",
       "      <td>associate's degree</td>\n",
       "      <td>standard</td>\n",
       "      <td>none</td>\n",
       "      <td>71</td>\n",
       "      <td>83</td>\n",
       "      <td>78</td>\n",
       "    </tr>\n",
       "    <tr>\n",
       "      <th>6</th>\n",
       "      <td>female</td>\n",
       "      <td>group B</td>\n",
       "      <td>some college</td>\n",
       "      <td>standard</td>\n",
       "      <td>completed</td>\n",
       "      <td>88</td>\n",
       "      <td>95</td>\n",
       "      <td>92</td>\n",
       "    </tr>\n",
       "    <tr>\n",
       "      <th>7</th>\n",
       "      <td>male</td>\n",
       "      <td>group B</td>\n",
       "      <td>some college</td>\n",
       "      <td>free/reduced</td>\n",
       "      <td>none</td>\n",
       "      <td>40</td>\n",
       "      <td>43</td>\n",
       "      <td>39</td>\n",
       "    </tr>\n",
       "    <tr>\n",
       "      <th>8</th>\n",
       "      <td>male</td>\n",
       "      <td>group D</td>\n",
       "      <td>high school</td>\n",
       "      <td>free/reduced</td>\n",
       "      <td>completed</td>\n",
       "      <td>64</td>\n",
       "      <td>64</td>\n",
       "      <td>67</td>\n",
       "    </tr>\n",
       "    <tr>\n",
       "      <th>9</th>\n",
       "      <td>female</td>\n",
       "      <td>group B</td>\n",
       "      <td>high school</td>\n",
       "      <td>free/reduced</td>\n",
       "      <td>none</td>\n",
       "      <td>38</td>\n",
       "      <td>60</td>\n",
       "      <td>50</td>\n",
       "    </tr>\n",
       "  </tbody>\n",
       "</table>\n",
       "</div>"
      ],
      "text/plain": [
       "   gender race_ethnicity parental_level_of_education         lunch  \\\n",
       "0  female        group B           bachelor's degree      standard   \n",
       "1  female        group C                some college      standard   \n",
       "2  female        group B             master's degree      standard   \n",
       "3    male        group A          associate's degree  free/reduced   \n",
       "4    male        group C                some college      standard   \n",
       "5  female        group B          associate's degree      standard   \n",
       "6  female        group B                some college      standard   \n",
       "7    male        group B                some college  free/reduced   \n",
       "8    male        group D                 high school  free/reduced   \n",
       "9  female        group B                 high school  free/reduced   \n",
       "\n",
       "  test_preparation_course  math_score  reading_score  writing_score  \n",
       "0                    none          72             72             74  \n",
       "1               completed          69             90             88  \n",
       "2                    none          90             95             93  \n",
       "3                    none          47             57             44  \n",
       "4                    none          76             78             75  \n",
       "5                    none          71             83             78  \n",
       "6               completed          88             95             92  \n",
       "7                    none          40             43             39  \n",
       "8               completed          64             64             67  \n",
       "9                    none          38             60             50  "
      ]
     },
     "execution_count": 124,
     "metadata": {},
     "output_type": "execute_result"
    }
   ],
   "source": [
    "df.head(10)"
   ]
  },
  {
   "cell_type": "code",
   "execution_count": 125,
   "metadata": {},
   "outputs": [
    {
     "data": {
      "text/plain": [
       "np.int64(0)"
      ]
     },
     "execution_count": 125,
     "metadata": {},
     "output_type": "execute_result"
    }
   ],
   "source": [
    "df.duplicated().sum()"
   ]
  },
  {
   "cell_type": "markdown",
   "metadata": {},
   "source": [
    "__No duplicate values__"
   ]
  },
  {
   "cell_type": "markdown",
   "metadata": {},
   "source": [
    "__We have decided to take math_score as dependent variable and rest all as indepedent varaible__"
   ]
  },
  {
   "cell_type": "code",
   "execution_count": 126,
   "metadata": {},
   "outputs": [],
   "source": [
    "X=df.drop(['math_score'],axis=1)"
   ]
  },
  {
   "cell_type": "code",
   "execution_count": 127,
   "metadata": {},
   "outputs": [],
   "source": [
    "Y=df['math_score']"
   ]
  },
  {
   "cell_type": "code",
   "execution_count": 128,
   "metadata": {},
   "outputs": [
    {
     "name": "stdout",
     "output_type": "stream",
     "text": [
      "<class 'pandas.core.series.Series'>\n"
     ]
    }
   ],
   "source": [
    "print(type(Y))"
   ]
  },
  {
   "cell_type": "markdown",
   "metadata": {},
   "source": [
    "__Create a pipeline for transforming columns into categorical features and standardize numerical features__"
   ]
  },
  {
   "cell_type": "code",
   "execution_count": 129,
   "metadata": {},
   "outputs": [],
   "source": [
    "from sklearn.compose import ColumnTransformer\n",
    "from sklearn.preprocessing import OneHotEncoder,MinMaxScaler\n",
    "\n",
    "numeric_tranformer=MinMaxScaler()\n",
    "categorical_transformer=OneHotEncoder()\n",
    "\n",
    "numeric_features=X.select_dtypes(exclude='object').columns\n",
    "categorical_features=X.select_dtypes(include='object').columns\n",
    "preprocessor=ColumnTransformer(\n",
    "    [\n",
    "        ('OneHotEncoder',categorical_transformer,categorical_features),\n",
    "        ('MinMaxScaler',numeric_tranformer,numeric_features),\n",
    "    ]\n",
    ")\n"
   ]
  },
  {
   "cell_type": "code",
   "execution_count": 130,
   "metadata": {},
   "outputs": [],
   "source": [
    "X=preprocessor.fit_transform(X)"
   ]
  },
  {
   "cell_type": "code",
   "execution_count": 131,
   "metadata": {},
   "outputs": [
    {
     "name": "stdout",
     "output_type": "stream",
     "text": [
      "[[1.         0.         0.         ... 1.         0.6626506  0.71111111]\n",
      " [1.         0.         0.         ... 0.         0.87951807 0.86666667]\n",
      " [1.         0.         0.         ... 1.         0.93975904 0.92222222]\n",
      " ...\n",
      " [1.         0.         0.         ... 0.         0.65060241 0.61111111]\n",
      " [1.         0.         0.         ... 0.         0.73493976 0.74444444]\n",
      " [1.         0.         0.         ... 1.         0.8313253  0.84444444]]\n"
     ]
    }
   ],
   "source": [
    "print(X)"
   ]
  },
  {
   "cell_type": "markdown",
   "metadata": {},
   "source": [
    "__Splitting dataset__"
   ]
  },
  {
   "cell_type": "code",
   "execution_count": 132,
   "metadata": {},
   "outputs": [],
   "source": [
    "from sklearn.model_selection import train_test_split\n",
    "X_train,X_test,Y_train,Y_test=train_test_split(X,Y,test_size=0.2,random_state=42)"
   ]
  },
  {
   "cell_type": "code",
   "execution_count": 133,
   "metadata": {},
   "outputs": [
    {
     "data": {
      "text/plain": [
       "(200, 19)"
      ]
     },
     "execution_count": 133,
     "metadata": {},
     "output_type": "execute_result"
    }
   ],
   "source": [
    "X_test.shape"
   ]
  },
  {
   "cell_type": "code",
   "execution_count": 183,
   "metadata": {},
   "outputs": [],
   "source": [
    "from sklearn.metrics import r2_score,mean_absolute_error,mean_squared_error\n",
    "def sab_kuch(y,y_pred):\n",
    "    \n",
    "    return np.sqrt(mean_squared_error(y,y_pred)),mean_absolute_error(y,y_pred),r2_score(y,y_pred)"
   ]
  },
  {
   "cell_type": "code",
   "execution_count": 220,
   "metadata": {},
   "outputs": [
    {
     "name": "stdout",
     "output_type": "stream",
     "text": [
      "--Evaluation for Training Data-- Linear Regressor\n",
      "Mean Squared Error -- 5.33\n",
      "Mean Absolute Error -- 4.27\n",
      "R2 Score -- 0.87\n",
      "--Evaluation for Test Data-- Linear Regressor\n",
      "Mean Squared Error -- 5.37\n",
      "Mean Absolute Error -- 4.19\n",
      "R12 Score -- 0 0.88\n",
      "===================================\n",
      "\n",
      "\n",
      "--Evaluation for Training Data-- Lasso\n",
      "Mean Squared Error -- 9.23\n",
      "Mean Absolute Error -- 7.39\n",
      "R2 Score -- 0.62\n",
      "--Evaluation for Test Data-- Lasso\n",
      "Mean Squared Error -- 9.58\n",
      "Mean Absolute Error -- 7.55\n",
      "R12 Score -- 1 0.62\n",
      "===================================\n",
      "\n",
      "\n",
      "--Evaluation for Training Data-- Ridge\n",
      "Mean Squared Error -- 5.37\n",
      "Mean Absolute Error -- 4.28\n",
      "R2 Score -- 0.87\n",
      "--Evaluation for Test Data-- Ridge\n",
      "Mean Squared Error -- 5.41\n",
      "Mean Absolute Error -- 4.23\n",
      "R12 Score -- 2 0.88\n",
      "===================================\n",
      "\n",
      "\n",
      "--Evaluation for Training Data-- Random Forest Regressor\n",
      "Mean Squared Error -- 2.30\n",
      "Mean Absolute Error -- 1.84\n",
      "R2 Score -- 0.98\n",
      "--Evaluation for Test Data-- Random Forest Regressor\n",
      "Mean Squared Error -- 6.11\n",
      "Mean Absolute Error -- 4.75\n",
      "R12 Score -- 3 0.85\n",
      "===================================\n",
      "\n",
      "\n",
      "--Evaluation for Training Data-- Decision Tree Regressor\n",
      "Mean Squared Error -- 0.28\n",
      "Mean Absolute Error -- 0.02\n",
      "R2 Score -- 1.00\n",
      "--Evaluation for Test Data-- Decision Tree Regressor\n",
      "Mean Squared Error -- 7.72\n",
      "Mean Absolute Error -- 6.21\n",
      "R12 Score -- 4 0.75\n",
      "===================================\n",
      "\n",
      "\n",
      "--Evaluation for Training Data-- KNN Regressor\n",
      "Mean Squared Error -- 8.71\n",
      "Mean Absolute Error -- 6.68\n",
      "R2 Score -- 0.66\n",
      "--Evaluation for Test Data-- KNN Regressor\n",
      "Mean Squared Error -- 11.87\n",
      "Mean Absolute Error -- 8.65\n",
      "R12 Score -- 5 0.42\n",
      "===================================\n",
      "\n",
      "\n",
      "--Evaluation for Training Data-- XGB Regressor\n",
      "Mean Squared Error -- 1.01\n",
      "Mean Absolute Error -- 0.69\n",
      "R2 Score -- 1.00\n",
      "--Evaluation for Test Data-- XGB Regressor\n",
      "Mean Squared Error -- 6.47\n",
      "Mean Absolute Error -- 5.06\n",
      "R12 Score -- 6 0.83\n",
      "===================================\n",
      "\n",
      "\n",
      "--Evaluation for Training Data-- Ada Boost Regressor\n",
      "Mean Squared Error -- 5.80\n",
      "Mean Absolute Error -- 4.75\n",
      "R2 Score -- 0.85\n",
      "--Evaluation for Test Data-- Ada Boost Regressor\n",
      "Mean Squared Error -- 6.07\n",
      "Mean Absolute Error -- 4.71\n",
      "R12 Score -- 7 0.85\n",
      "===================================\n",
      "\n",
      "\n"
     ]
    }
   ],
   "source": [
    "\n",
    "models={'Linear Regressor':LinearRegression(),\n",
    "        'Lasso':Lasso(),\n",
    "        'Ridge':Ridge(),\n",
    "        'Random Forest Regressor':RandomForestRegressor(),\n",
    "        'Decision Tree Regressor':DecisionTreeRegressor(),\n",
    "        'KNN Regressor':KNeighborsRegressor(),\n",
    "        'XGB Regressor':XGBRegressor(),\n",
    "        'Ada Boost Regressor':AdaBoostRegressor()}\n",
    "\n",
    "model_list=[]\n",
    "r2_score_list=[]\n",
    "\n",
    "for i in range(len(models)):\n",
    "    model=list(models.values())[i]\n",
    "    model.fit(X_train,Y_train)\n",
    "\n",
    "    y_train_pred=model.predict(X_train)\n",
    "    y_test_pred=model.predict(X_test)\n",
    "    \n",
    "   \n",
    "\n",
    "\n",
    "    mse_train,mae_train,r2_train=sab_kuch(Y_train,y_train_pred)\n",
    "\n",
    "    mse_test,mae_test,r2_test=sab_kuch(Y_test,y_test_pred)\n",
    "\n",
    "    model_name=list(models.keys())[i]\n",
    "    model_list.append(model_name)\n",
    "\n",
    "    print(f\"--Evaluation for Training Data-- {model_name}\")\n",
    "    print(f'Mean Squared Error -- {mse_train:.2f}')\n",
    "    print(f'Mean Absolute Error -- {mae_train:.2f}')\n",
    "    print(f'R2 Score -- {r2_train:.2f}')\n",
    "\n",
    "\n",
    "    print(f\"--Evaluation for Test Data-- {model_name}\")\n",
    "    print(f'Mean Squared Error -- {mse_test:.2f}')\n",
    "    print(f'Mean Absolute Error -- {mae_test:.2f}')\n",
    "    print(f'R12 Score -- {i} {r2_test:.2f}')\n",
    "\n",
    "    r2_score_list.append(r2_test)\n",
    "\n",
    "    print('='*35)\n",
    "    print('\\n')\n",
    "\n",
    "\n",
    "\n",
    "\n",
    "    \n",
    "    \n"
   ]
  },
  {
   "cell_type": "code",
   "execution_count": 186,
   "metadata": {},
   "outputs": [
    {
     "name": "stdout",
     "output_type": "stream",
     "text": [
      "['Linear Regressor', 'Lasso', 'Ridge', 'Random Forest Regressor', 'Decision Tree Regressor', 'KNN Regressor', 'XGB Regressor', 'Ada Boost Regressor']\n"
     ]
    }
   ],
   "source": [
    "print(model_list)"
   ]
  },
  {
   "cell_type": "code",
   "execution_count": 216,
   "metadata": {},
   "outputs": [
    {
     "data": {
      "text/html": [
       "<div>\n",
       "<style scoped>\n",
       "    .dataframe tbody tr th:only-of-type {\n",
       "        vertical-align: middle;\n",
       "    }\n",
       "\n",
       "    .dataframe tbody tr th {\n",
       "        vertical-align: top;\n",
       "    }\n",
       "\n",
       "    .dataframe thead th {\n",
       "        text-align: right;\n",
       "    }\n",
       "</style>\n",
       "<table border=\"1\" class=\"dataframe\">\n",
       "  <thead>\n",
       "    <tr style=\"text-align: right;\">\n",
       "      <th></th>\n",
       "      <th>Model</th>\n",
       "      <th>R2_score</th>\n",
       "    </tr>\n",
       "  </thead>\n",
       "  <tbody>\n",
       "    <tr>\n",
       "      <th>0</th>\n",
       "      <td>Linear Regressor</td>\n",
       "      <td>0.881569</td>\n",
       "    </tr>\n",
       "    <tr>\n",
       "      <th>2</th>\n",
       "      <td>Ridge</td>\n",
       "      <td>0.879527</td>\n",
       "    </tr>\n",
       "    <tr>\n",
       "      <th>3</th>\n",
       "      <td>Random Forest Regressor</td>\n",
       "      <td>0.855752</td>\n",
       "    </tr>\n",
       "    <tr>\n",
       "      <th>7</th>\n",
       "      <td>Ada Boost Regressor</td>\n",
       "      <td>0.847936</td>\n",
       "    </tr>\n",
       "    <tr>\n",
       "      <th>6</th>\n",
       "      <td>XGB Regressor</td>\n",
       "      <td>0.827797</td>\n",
       "    </tr>\n",
       "    <tr>\n",
       "      <th>4</th>\n",
       "      <td>Decision Tree Regressor</td>\n",
       "      <td>0.746608</td>\n",
       "    </tr>\n",
       "    <tr>\n",
       "      <th>1</th>\n",
       "      <td>Lasso</td>\n",
       "      <td>0.622536</td>\n",
       "    </tr>\n",
       "    <tr>\n",
       "      <th>5</th>\n",
       "      <td>KNN Regressor</td>\n",
       "      <td>0.420641</td>\n",
       "    </tr>\n",
       "  </tbody>\n",
       "</table>\n",
       "</div>"
      ],
      "text/plain": [
       "                     Model  R2_score\n",
       "0         Linear Regressor  0.881569\n",
       "2                    Ridge  0.879527\n",
       "3  Random Forest Regressor  0.855752\n",
       "7      Ada Boost Regressor  0.847936\n",
       "6            XGB Regressor  0.827797\n",
       "4  Decision Tree Regressor  0.746608\n",
       "1                    Lasso  0.622536\n",
       "5            KNN Regressor  0.420641"
      ]
     },
     "execution_count": 216,
     "metadata": {},
     "output_type": "execute_result"
    }
   ],
   "source": [
    "pd.DataFrame(list(zip(model_list,r2_score_list)),columns=['Model','R2_score']).sort_values(by=['R2_score'],ascending=False)"
   ]
  },
  {
   "cell_type": "markdown",
   "metadata": {},
   "source": [
    "__As Linear Regressor has maximum R2_Score which signifies it has least variation__"
   ]
  },
  {
   "cell_type": "code",
   "execution_count": 222,
   "metadata": {},
   "outputs": [
    {
     "name": "stdout",
     "output_type": "stream",
     "text": [
      "88.15686046674097\n"
     ]
    }
   ],
   "source": [
    "lin_model=LinearRegression()\n",
    "lin_model.fit(X_train,Y_train)\n",
    "Y_pred=lin_model.predict(X_test)\n",
    "accu=r2_score(Y_test,Y_pred)\n",
    "print(accu*100)"
   ]
  },
  {
   "cell_type": "code",
   "execution_count": null,
   "metadata": {},
   "outputs": [],
   "source": [
    "y_test_pred=lin_model.predict(X_test)"
   ]
  },
  {
   "cell_type": "code",
   "execution_count": 229,
   "metadata": {},
   "outputs": [
    {
     "data": {
      "image/png": "[encoded data removed]",
      "text/plain": [
       "<Figure size 640x480 with 1 Axes>"
      ]
     },
     "metadata": {},
     "output_type": "display_data"
    }
   ],
   "source": [
    "import seaborn as sns\n",
    "sns.regplot(x=Y_test,y=Y_pred,ci=None,color='red')\n",
    "plt.show()"
   ]
  }
 ],
 "metadata": {
  "kernelspec": {
   "display_name": "myenv",
   "language": "python",
   "name": "python3"
  },
  "language_info": {
   "codemirror_mode": {
    "name": "ipython",
    "version": 3
   },
   "file_extension": ".py",
   "mimetype": "text/x-python",
   "name": "python",
   "nbconvert_exporter": "python",
   "pygments_lexer": "ipython3",
   "version": "3.12.0"
  }
 },
 "nbformat": 4,
 "nbformat_minor": 2
}
